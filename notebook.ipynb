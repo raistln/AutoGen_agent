{
 "cells": [
  {
   "cell_type": "code",
   "execution_count": 2,
   "metadata": {},
   "outputs": [],
   "source": [
    "from autogen import AssistantAgent, UserProxyAgent, config_list_from_json"
   ]
  },
  {
   "cell_type": "code",
   "execution_count": 4,
   "metadata": {},
   "outputs": [
    {
     "ename": "ImportError",
     "evalue": "Module 'openai' needed for autogen.oai.client.create_openai_client is missing, please install it using 'pip install ag2[openai]'",
     "output_type": "error",
     "traceback": [
      "\u001b[31m---------------------------------------------------------------------------\u001b[39m",
      "\u001b[31mImportError\u001b[39m                               Traceback (most recent call last)",
      "\u001b[36mCell\u001b[39m\u001b[36m \u001b[39m\u001b[32mIn[4]\u001b[39m\u001b[32m, line 11\u001b[39m\n\u001b[32m      2\u001b[39m config_list = config_list = [\n\u001b[32m      3\u001b[39m     {\n\u001b[32m      4\u001b[39m         \u001b[33m\"\u001b[39m\u001b[33mmodel\u001b[39m\u001b[33m\"\u001b[39m: \u001b[33m\"\u001b[39m\u001b[33mmistral:7b\u001b[39m\u001b[33m\"\u001b[39m,  \u001b[38;5;66;03m# Modelo local\u001b[39;00m\n\u001b[32m   (...)\u001b[39m\u001b[32m      7\u001b[39m     }\n\u001b[32m      8\u001b[39m ]\n\u001b[32m     10\u001b[39m \u001b[38;5;66;03m# Agente de Búsqueda en Internet\u001b[39;00m\n\u001b[32m---> \u001b[39m\u001b[32m11\u001b[39m search_agent = \u001b[43mAssistantAgent\u001b[49m\u001b[43m(\u001b[49m\n\u001b[32m     12\u001b[39m \u001b[43m    \u001b[49m\u001b[43mname\u001b[49m\u001b[43m=\u001b[49m\u001b[33;43m\"\u001b[39;49m\u001b[33;43msearch_agent\u001b[39;49m\u001b[33;43m\"\u001b[39;49m\u001b[43m,\u001b[49m\n\u001b[32m     13\u001b[39m \u001b[43m    \u001b[49m\u001b[43mllm_config\u001b[49m\u001b[43m=\u001b[49m\u001b[43m{\u001b[49m\u001b[33;43m\"\u001b[39;49m\u001b[33;43mconfig_list\u001b[39;49m\u001b[33;43m\"\u001b[39;49m\u001b[43m:\u001b[49m\u001b[43m \u001b[49m\u001b[43mconfig_list\u001b[49m\u001b[43m}\u001b[49m\u001b[43m,\u001b[49m\n\u001b[32m     14\u001b[39m \u001b[43m    \u001b[49m\u001b[43msystem_message\u001b[49m\u001b[43m=\u001b[49m\u001b[33;43m\"\u001b[39;49m\u001b[33;43mEres un agente especializado en buscar listas de reproducción en internet. Extrae las canciones más mencionadas.\u001b[39;49m\u001b[33;43m\"\u001b[39;49m\n\u001b[32m     15\u001b[39m \u001b[43m)\u001b[49m\n\u001b[32m     17\u001b[39m \u001b[38;5;66;03m# Agente de YouTube\u001b[39;00m\n\u001b[32m     18\u001b[39m youtube_agent = AssistantAgent(\n\u001b[32m     19\u001b[39m     name=\u001b[33m\"\u001b[39m\u001b[33myoutube_agent\u001b[39m\u001b[33m\"\u001b[39m,\n\u001b[32m     20\u001b[39m     llm_config={\u001b[33m\"\u001b[39m\u001b[33mconfig_list\u001b[39m\u001b[33m\"\u001b[39m: config_list},\n\u001b[32m     21\u001b[39m     system_message=\u001b[33m\"\u001b[39m\u001b[33mEres un agente especializado en buscar canciones en YouTube y crear listas de reproducción.\u001b[39m\u001b[33m\"\u001b[39m\n\u001b[32m     22\u001b[39m )\n",
      "\u001b[36mFile \u001b[39m\u001b[32mc:\\Users\\USUARIO\\AppData\\Local\\pypoetry\\Cache\\virtualenvs\\autogen-agent-t69wFtYy-py3.13\\Lib\\site-packages\\autogen\\agentchat\\assistant_agent.py:68\u001b[39m, in \u001b[36mAssistantAgent.__init__\u001b[39m\u001b[34m(self, name, system_message, llm_config, is_termination_msg, max_consecutive_auto_reply, human_input_mode, description, **kwargs)\u001b[39m\n\u001b[32m     41\u001b[39m \u001b[38;5;28;01mdef\u001b[39;00m\u001b[38;5;250m \u001b[39m\u001b[34m__init__\u001b[39m(\n\u001b[32m     42\u001b[39m     \u001b[38;5;28mself\u001b[39m,\n\u001b[32m     43\u001b[39m     name: \u001b[38;5;28mstr\u001b[39m,\n\u001b[32m   (...)\u001b[39m\u001b[32m     50\u001b[39m     **kwargs: Any,\n\u001b[32m     51\u001b[39m ):\n\u001b[32m     52\u001b[39m \u001b[38;5;250m    \u001b[39m\u001b[33;03m\"\"\"Args:\u001b[39;00m\n\u001b[32m     53\u001b[39m \u001b[33;03m    name (str): agent name.\u001b[39;00m\n\u001b[32m     54\u001b[39m \u001b[33;03m    system_message (str): system message for the ChatCompletion inference.\u001b[39;00m\n\u001b[32m   (...)\u001b[39m\u001b[32m     66\u001b[39m \u001b[33;03m        [ConversableAgent](/docs/api-reference/autogen/ConversableAgent#conversableagent).\u001b[39;00m\n\u001b[32m     67\u001b[39m \u001b[33;03m    \"\"\"\u001b[39;00m\n\u001b[32m---> \u001b[39m\u001b[32m68\u001b[39m     \u001b[38;5;28;43msuper\u001b[39;49m\u001b[43m(\u001b[49m\u001b[43m)\u001b[49m\u001b[43m.\u001b[49m\u001b[34;43m__init__\u001b[39;49m\u001b[43m(\u001b[49m\n\u001b[32m     69\u001b[39m \u001b[43m        \u001b[49m\u001b[43mname\u001b[49m\u001b[43m,\u001b[49m\n\u001b[32m     70\u001b[39m \u001b[43m        \u001b[49m\u001b[43msystem_message\u001b[49m\u001b[43m,\u001b[49m\n\u001b[32m     71\u001b[39m \u001b[43m        \u001b[49m\u001b[43mis_termination_msg\u001b[49m\u001b[43m,\u001b[49m\n\u001b[32m     72\u001b[39m \u001b[43m        \u001b[49m\u001b[43mmax_consecutive_auto_reply\u001b[49m\u001b[43m,\u001b[49m\n\u001b[32m     73\u001b[39m \u001b[43m        \u001b[49m\u001b[43mhuman_input_mode\u001b[49m\u001b[43m,\u001b[49m\n\u001b[32m     74\u001b[39m \u001b[43m        \u001b[49m\u001b[43mllm_config\u001b[49m\u001b[43m=\u001b[49m\u001b[43mllm_config\u001b[49m\u001b[43m,\u001b[49m\n\u001b[32m     75\u001b[39m \u001b[43m        \u001b[49m\u001b[43mdescription\u001b[49m\u001b[43m=\u001b[49m\u001b[43mdescription\u001b[49m\u001b[43m,\u001b[49m\n\u001b[32m     76\u001b[39m \u001b[43m        \u001b[49m\u001b[43m*\u001b[49m\u001b[43m*\u001b[49m\u001b[43mkwargs\u001b[49m\u001b[43m,\u001b[49m\n\u001b[32m     77\u001b[39m \u001b[43m    \u001b[49m\u001b[43m)\u001b[49m\n\u001b[32m     78\u001b[39m     \u001b[38;5;28;01mif\u001b[39;00m logging_enabled():\n\u001b[32m     79\u001b[39m         log_new_agent(\u001b[38;5;28mself\u001b[39m, \u001b[38;5;28mlocals\u001b[39m())\n",
      "\u001b[36mFile \u001b[39m\u001b[32mc:\\Users\\USUARIO\\AppData\\Local\\pypoetry\\Cache\\virtualenvs\\autogen-agent-t69wFtYy-py3.13\\Lib\\site-packages\\autogen\\agentchat\\conversable_agent.py:255\u001b[39m, in \u001b[36mConversableAgent.__init__\u001b[39m\u001b[34m(self, name, system_message, is_termination_msg, max_consecutive_auto_reply, human_input_mode, function_map, code_execution_config, llm_config, default_auto_reply, description, chat_messages, silent, context_variables, functions, update_agent_state_before_reply)\u001b[39m\n\u001b[32m    249\u001b[39m     \u001b[38;5;28;01mexcept\u001b[39;00m \u001b[38;5;167;01mTypeError\u001b[39;00m \u001b[38;5;28;01mas\u001b[39;00m e:\n\u001b[32m    250\u001b[39m         \u001b[38;5;28;01mraise\u001b[39;00m \u001b[38;5;167;01mTypeError\u001b[39;00m(\n\u001b[32m    251\u001b[39m             \u001b[33m\"\u001b[39m\u001b[33mPlease implement __deepcopy__ method for each value class in llm_config to support deepcopy.\u001b[39m\u001b[33m\"\u001b[39m\n\u001b[32m    252\u001b[39m             \u001b[33m\"\u001b[39m\u001b[33m Refer to the docs for more details: https://docs.ag2.ai/docs/topics/llm_configuration#adding-http-client-in-llm-config-for-proxy\u001b[39m\u001b[33m\"\u001b[39m\n\u001b[32m    253\u001b[39m         ) \u001b[38;5;28;01mfrom\u001b[39;00m\u001b[38;5;250m \u001b[39m\u001b[34;01me\u001b[39;00m\n\u001b[32m--> \u001b[39m\u001b[32m255\u001b[39m \u001b[38;5;28;43mself\u001b[39;49m\u001b[43m.\u001b[49m\u001b[43m_validate_llm_config\u001b[49m\u001b[43m(\u001b[49m\u001b[43mllm_config\u001b[49m\u001b[43m)\u001b[49m\n\u001b[32m    256\u001b[39m \u001b[38;5;28mself\u001b[39m._validate_name(name)\n\u001b[32m    257\u001b[39m \u001b[38;5;28mself\u001b[39m._name = name\n",
      "\u001b[36mFile \u001b[39m\u001b[32mc:\\Users\\USUARIO\\AppData\\Local\\pypoetry\\Cache\\virtualenvs\\autogen-agent-t69wFtYy-py3.13\\Lib\\site-packages\\autogen\\agentchat\\conversable_agent.py:485\u001b[39m, in \u001b[36mConversableAgent._validate_llm_config\u001b[39m\u001b[34m(self, llm_config)\u001b[39m\n\u001b[32m    481\u001b[39m \u001b[38;5;28;01mif\u001b[39;00m \u001b[38;5;28mself\u001b[39m.llm_config \u001b[38;5;129;01min\u001b[39;00m [{}, {\u001b[33m\"\u001b[39m\u001b[33mconfig_list\u001b[39m\u001b[33m\"\u001b[39m: []}, {\u001b[33m\"\u001b[39m\u001b[33mconfig_list\u001b[39m\u001b[33m\"\u001b[39m: [{\u001b[33m\"\u001b[39m\u001b[33mmodel\u001b[39m\u001b[33m\"\u001b[39m: \u001b[33m\"\u001b[39m\u001b[33m\"\u001b[39m}]}]:\n\u001b[32m    482\u001b[39m     \u001b[38;5;28;01mraise\u001b[39;00m \u001b[38;5;167;01mValueError\u001b[39;00m(\n\u001b[32m    483\u001b[39m         \u001b[33m\"\u001b[39m\u001b[33mWhen using OpenAI or Azure OpenAI endpoints, specify a non-empty \u001b[39m\u001b[33m'\u001b[39m\u001b[33mmodel\u001b[39m\u001b[33m'\u001b[39m\u001b[33m either in \u001b[39m\u001b[33m'\u001b[39m\u001b[33mllm_config\u001b[39m\u001b[33m'\u001b[39m\u001b[33m or in each config of \u001b[39m\u001b[33m'\u001b[39m\u001b[33mconfig_list\u001b[39m\u001b[33m'\u001b[39m\u001b[33m.\u001b[39m\u001b[33m\"\u001b[39m\n\u001b[32m    484\u001b[39m     )\n\u001b[32m--> \u001b[39m\u001b[32m485\u001b[39m \u001b[38;5;28mself\u001b[39m.client = \u001b[38;5;28;01mNone\u001b[39;00m \u001b[38;5;28;01mif\u001b[39;00m \u001b[38;5;28mself\u001b[39m.llm_config \u001b[38;5;129;01mis\u001b[39;00m \u001b[38;5;28;01mFalse\u001b[39;00m \u001b[38;5;28;01melse\u001b[39;00m \u001b[43mOpenAIWrapper\u001b[49m\u001b[43m(\u001b[49m\u001b[43m*\u001b[49m\u001b[43m*\u001b[49m\u001b[38;5;28;43mself\u001b[39;49m\u001b[43m.\u001b[49m\u001b[43mllm_config\u001b[49m\u001b[43m)\u001b[49m\n",
      "\u001b[36mFile \u001b[39m\u001b[32mc:\\Users\\USUARIO\\AppData\\Local\\pypoetry\\Cache\\virtualenvs\\autogen-agent-t69wFtYy-py3.13\\Lib\\site-packages\\autogen\\oai\\client.py:757\u001b[39m, in \u001b[36mOpenAIWrapper.__init__\u001b[39m\u001b[34m(self, config_list, **base_config)\u001b[39m\n\u001b[32m    755\u001b[39m     config_list = [config.copy() \u001b[38;5;28;01mfor\u001b[39;00m config \u001b[38;5;129;01min\u001b[39;00m config_list]  \u001b[38;5;66;03m# make a copy before modifying\u001b[39;00m\n\u001b[32m    756\u001b[39m     \u001b[38;5;28;01mfor\u001b[39;00m config \u001b[38;5;129;01min\u001b[39;00m config_list:\n\u001b[32m--> \u001b[39m\u001b[32m757\u001b[39m         \u001b[38;5;28;43mself\u001b[39;49m\u001b[43m.\u001b[49m\u001b[43m_register_default_client\u001b[49m\u001b[43m(\u001b[49m\u001b[43mconfig\u001b[49m\u001b[43m,\u001b[49m\u001b[43m \u001b[49m\u001b[43mopenai_config\u001b[49m\u001b[43m)\u001b[49m  \u001b[38;5;66;03m# could modify the config\u001b[39;00m\n\u001b[32m    758\u001b[39m         \u001b[38;5;28mself\u001b[39m._config_list.append({\n\u001b[32m    759\u001b[39m             **extra_kwargs,\n\u001b[32m    760\u001b[39m             **{k: v \u001b[38;5;28;01mfor\u001b[39;00m k, v \u001b[38;5;129;01min\u001b[39;00m config.items() \u001b[38;5;28;01mif\u001b[39;00m k \u001b[38;5;129;01mnot\u001b[39;00m \u001b[38;5;129;01min\u001b[39;00m \u001b[38;5;28mself\u001b[39m.openai_kwargs},\n\u001b[32m    761\u001b[39m         })\n\u001b[32m    762\u001b[39m \u001b[38;5;28;01melse\u001b[39;00m:\n",
      "\u001b[36mFile \u001b[39m\u001b[32mc:\\Users\\USUARIO\\AppData\\Local\\pypoetry\\Cache\\virtualenvs\\autogen-agent-t69wFtYy-py3.13\\Lib\\site-packages\\autogen\\oai\\client.py:901\u001b[39m, in \u001b[36mOpenAIWrapper._register_default_client\u001b[39m\u001b[34m(self, config, openai_config)\u001b[39m\n\u001b[32m    898\u001b[39m         \u001b[38;5;28mself\u001b[39m._clients.append(OpenAIClient(client, response_format))\n\u001b[32m    899\u001b[39m         \u001b[38;5;28;01mreturn\u001b[39;00m client\n\u001b[32m--> \u001b[39m\u001b[32m901\u001b[39m     client = \u001b[43mcreate_openai_client\u001b[49m\u001b[43m(\u001b[49m\u001b[43m)\u001b[49m\n\u001b[32m    903\u001b[39m \u001b[38;5;28;01mif\u001b[39;00m logging_enabled():\n\u001b[32m    904\u001b[39m     log_new_client(client, \u001b[38;5;28mself\u001b[39m, openai_config)\n",
      "\u001b[36mFile \u001b[39m\u001b[32mc:\\Users\\USUARIO\\AppData\\Local\\pypoetry\\Cache\\virtualenvs\\autogen-agent-t69wFtYy-py3.13\\Lib\\site-packages\\autogen\\import_utils.py:160\u001b[39m, in \u001b[36mPatchCallable.patch.<locals>._call\u001b[39m\u001b[34m(*args, **kwargs)\u001b[39m\n\u001b[32m    158\u001b[39m \u001b[38;5;129m@wraps\u001b[39m(f)\n\u001b[32m    159\u001b[39m \u001b[38;5;28;01mdef\u001b[39;00m\u001b[38;5;250m \u001b[39m\u001b[34m_call\u001b[39m(*args: Any, **kwargs: Any) -> Any:\n\u001b[32m--> \u001b[39m\u001b[32m160\u001b[39m     \u001b[38;5;28;01mraise\u001b[39;00m \u001b[38;5;167;01mImportError\u001b[39;00m(\u001b[38;5;28mself\u001b[39m.msg)\n",
      "\u001b[31mImportError\u001b[39m: Module 'openai' needed for autogen.oai.client.create_openai_client is missing, please install it using 'pip install ag2[openai]'"
     ]
    }
   ],
   "source": [
    "# Configuración de los modelos (puedes usar OpenAI, Hugging Face, etc.)\n",
    "config_list = config_list = [\n",
    "    {\n",
    "        \"model\": \"mistral:7b\",  # Modelo local\n",
    "        \"api_key\": \"None\",      # No se necesita API key\n",
    "        \"base_url\": \"http://localhost:11434\",  # URL de Ollama\n",
    "    }\n",
    "]\n",
    "\n",
    "# Agente de Búsqueda en Internet\n",
    "search_agent = AssistantAgent(\n",
    "    name=\"search_agent\",\n",
    "    llm_config={\"config_list\": config_list},\n",
    "    system_message=\"Eres un agente especializado en buscar listas de reproducción en internet. Extrae las canciones más mencionadas.\"\n",
    ")\n",
    "\n",
    "# Agente de YouTube\n",
    "youtube_agent = AssistantAgent(\n",
    "    name=\"youtube_agent\",\n",
    "    llm_config={\"config_list\": config_list},\n",
    "    system_message=\"Eres un agente especializado en buscar canciones en YouTube y crear listas de reproducción.\"\n",
    ")\n",
    "\n",
    "# Agente de Spotify\n",
    "spotify_agent = AssistantAgent(\n",
    "    name=\"spotify_agent\",\n",
    "    llm_config={\"config_list\": config_list},\n",
    "    system_message=\"Eres un agente especializado en buscar canciones en Spotify y crear listas de reproducción.\"\n",
    ")\n",
    "\n",
    "# Agente de Notificaciones\n",
    "notification_agent = AssistantAgent(\n",
    "    name=\"notification_agent\",\n",
    "    llm_config={\"config_list\": config_list},\n",
    "    system_message=\"Eres un agente especializado en enviar mensajes por correo electrónico o WhatsApp.\"\n",
    ")\n",
    "\n",
    "# Agente Coordinador\n",
    "coordinator = UserProxyAgent(\n",
    "    name=\"coordinator\",\n",
    "    human_input_mode=\"NEVER\",\n",
    "    code_execution_config={\"work_dir\": \"coding\"},\n",
    ")"
   ]
  },
  {
   "cell_type": "code",
   "execution_count": null,
   "metadata": {},
   "outputs": [],
   "source": [
    "# El coordinador inicia la tarea\n",
    "coordinator.initiate_chat(\n",
    "    search_agent,\n",
    "    message=\"Busca listas de reproducción de AC/DC o rock de los 80s y extrae las canciones más mencionadas.\"\n",
    ")\n",
    "\n",
    "# El agente de búsqueda envía los resultados al coordinador\n",
    "coordinator.send(\n",
    "    youtube_agent,\n",
    "    message=\"Aquí están las canciones más mencionadas. Crea una lista de reproducción en YouTube.\"\n",
    ")\n",
    "\n",
    "coordinator.send(\n",
    "    spotify_agent,\n",
    "    message=\"Aquí están las canciones más mencionadas. Crea una lista de reproducción en Spotify.\"\n",
    ")\n",
    "\n",
    "coordinator.send(\n",
    "    notification_agent,\n",
    "    message=\"Aquí están los enlaces a las listas de reproducción. Envía un mensaje por correo electrónico o WhatsApp.\"\n",
    ")"
   ]
  },
  {
   "cell_type": "code",
   "execution_count": null,
   "metadata": {},
   "outputs": [],
   "source": [
    "from googleapiclient.discovery import build\n",
    "\n",
    "def create_youtube_playlist(songs):\n",
    "    youtube = build(\"youtube\", \"v3\", developerKey=\"TU_API_KEY\")\n",
    "    playlist = youtube.playlists().insert(\n",
    "        part=\"snippet,status\",\n",
    "        body={\n",
    "            \"snippet\": {\n",
    "                \"title\": \"Lista de reproducción generada\",\n",
    "                \"description\": \"Lista generada automáticamente por el agente.\"\n",
    "            },\n",
    "            \"status\": {\n",
    "                \"privacyStatus\": \"public\"\n",
    "            }\n",
    "        }\n",
    "    ).execute()\n",
    "    return playlist[\"id\"]"
   ]
  },
  {
   "cell_type": "code",
   "execution_count": null,
   "metadata": {},
   "outputs": [],
   "source": []
  }
 ],
 "metadata": {
  "kernelspec": {
   "display_name": "autogen-agent-t69wFtYy-py3.13",
   "language": "python",
   "name": "python3"
  },
  "language_info": {
   "codemirror_mode": {
    "name": "ipython",
    "version": 3
   },
   "file_extension": ".py",
   "mimetype": "text/x-python",
   "name": "python",
   "nbconvert_exporter": "python",
   "pygments_lexer": "ipython3",
   "version": "3.13.2"
  }
 },
 "nbformat": 4,
 "nbformat_minor": 2
}
